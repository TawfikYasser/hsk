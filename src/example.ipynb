{
 "cells": [
  {
   "cell_type": "markdown",
   "id": "fc055aef-e76d-4dff-af15-3d86a4d63c90",
   "metadata": {},
   "source": [
    "# Run this example\n",
    "\n",
    "- Loads a test file to hdfs\n",
    "- Reads the file from hdfs to kafka topic using pyspark"
   ]
  },
  {
   "cell_type": "code",
   "execution_count": null,
   "id": "7df01285-efbb-4cbf-ac05-04c549233aff",
   "metadata": {},
   "outputs": [],
   "source": [
    "! echo '========== creating folder /data in hdfs =========='\n",
    "! hdfs dfs -mkdir /data\n",
    "! echo '========== putting test file from local folder to hdfs =========='\n",
    "! hdfs dfs -put db.csv /data/db.csv\n",
    "! echo '========== listing files in folder /data =========='\n",
    "! hdfs dfs -ls /data"
   ]
  },
  {
   "cell_type": "code",
   "execution_count": null,
   "id": "95dcc378-864d-4833-b56c-ad3d7732a67d",
   "metadata": {},
   "outputs": [],
   "source": [
    "! echo '========== create kafka topic =========='\n",
    "! kafka-topics.sh --bootstrap-server localhost:9092 --create --topic example --replication-factor 1 --partitions 1\n",
    "! echo '========== kafka topic info =========='\n",
    "! kafka-topics.sh --bootstrap-server localhost:9092 --describe --topic example\n",
    "! echo '========== read kafka topic for 5 seconds =========='\n",
    "! kafka-console-consumer.sh --bootstrap-server localhost:9092 --topic example --timeout-ms 5000 --from-beginning"
   ]
  },
  {
   "cell_type": "code",
   "execution_count": null,
   "id": "9f972dad-ef41-454b-b45e-e6ba63997cbf",
   "metadata": {},
   "outputs": [],
   "source": [
    "# execute this before starting anything with pyspark\n",
    "import findspark  # read comments here: https://stackoverflow.com/questions/34998433/create-pyspark-kernel-for-jupyter\n",
    "findspark.init()"
   ]
  },
  {
   "cell_type": "code",
   "execution_count": null,
   "id": "e0a9b04e-f20c-4195-afbb-806ee01bbb19",
   "metadata": {},
   "outputs": [],
   "source": [
    "from pyspark.sql import SparkSession\n",
    "from pyspark.sql import functions as F\n",
    "from pyspark.sql.types import StructType, StringType, IntegerType\n",
    "from pyspark.sql.functions import from_json, to_json, col, struct\n",
    "\n",
    "spark = SparkSession.builder.appName(\"my_spark\").getOrCreate()\n",
    "\n",
    "# Output below should contain WARN (not ERROR). This is OK."
   ]
  },
  {
   "cell_type": "code",
   "execution_count": null,
   "id": "a461012c-0a4c-4d96-a1d1-9c2aad0085a4",
   "metadata": {},
   "outputs": [],
   "source": [
    "# Lets read file /data/db.csv from hdfs to spark stream\n",
    "kafka_server = 'localhost:9092'\n",
    "topic_name = 'example'\n",
    "schema = StructType() \\\n",
    "    .add(\"column_1\", StringType()) \\\n",
    "    .add(\"column_2\", IntegerType())\n",
    "\n",
    "# We will add id column with unique value to use it as key for kafka\n",
    "# All columns of dataframe in json format will be values\n",
    "stream = spark \\\n",
    "    .readStream \\\n",
    "    .format(\"csv\") \\\n",
    "    .option(\"header\", True) \\\n",
    "    .option(\"maxFilesPerTrigger\", 1) \\\n",
    "    .schema(schema) \\\n",
    "    .csv(\"/data\") \\\n",
    "    .withColumn('id', F.concat(F.unix_timestamp(), F.rand())) \\\n",
    "    .withColumn('value', to_json(struct(schema.names))) \\\n",
    "    .selectExpr(\"id as key\", \"value as value\") \\\n",
    "    .selectExpr(\"CAST(key AS STRING)\", \"CAST(value AS STRING)\") \\\n",
    "    .writeStream \\\n",
    "    .format(\"kafka\") \\\n",
    "    .outputMode(\"append\") \\\n",
    "    .option(\"kafka.bootstrap.servers\", kafka_server) \\\n",
    "    .option(\"topic\", topic_name) \\\n",
    "    .option(\"checkpointLocation\", \"checkpoints/stream_read_write\") \\\n",
    "    .start()"
   ]
  },
  {
   "cell_type": "code",
   "execution_count": null,
   "id": "ab6de8a0-25bf-42e1-8bfe-a20af2189f8c",
   "metadata": {},
   "outputs": [],
   "source": [
    "! echo '========== reading kafka topic for 5 seconds =========='\n",
    "! kafka-console-consumer.sh --bootstrap-server localhost:9092 --topic example --timeout-ms 5000 --from-beginning"
   ]
  },
  {
   "cell_type": "code",
   "execution_count": null,
   "id": "4a25bae1-6f75-4f55-ac0e-522ec0fce376",
   "metadata": {},
   "outputs": [],
   "source": [
    "# need to stop stream\n",
    "stream.stop()"
   ]
  }
 ],
 "metadata": {
  "kernelspec": {
   "display_name": "Python 3 (ipykernel)",
   "language": "python",
   "name": "python3"
  },
  "language_info": {
   "codemirror_mode": {
    "name": "ipython",
    "version": 3
   },
   "file_extension": ".py",
   "mimetype": "text/x-python",
   "name": "python",
   "nbconvert_exporter": "python",
   "pygments_lexer": "ipython3",
   "version": "3.10.6"
  }
 },
 "nbformat": 4,
 "nbformat_minor": 5
}
